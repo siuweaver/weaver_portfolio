{
 "cells": [
  {
   "cell_type": "markdown",
   "id": "77c6c240",
   "metadata": {},
   "source": [
    "# Import"
   ]
  },
  {
   "cell_type": "code",
   "execution_count": 1,
   "id": "4ab36a82",
   "metadata": {},
   "outputs": [],
   "source": [
    "import pandas as pd\n",
    "import numpy as np\n",
    "from fuzzywuzzy import fuzz\n",
    "from fuzzywuzzy import process"
   ]
  },
  {
   "cell_type": "code",
   "execution_count": 2,
   "id": "847b6ac8",
   "metadata": {},
   "outputs": [],
   "source": [
    "html_df = pd.read_html('https://www.avma.org/resources-tools/literature-reviews/dog-bite-risk-and-prevention-role-breed')"
   ]
  },
  {
   "cell_type": "code",
   "execution_count": 3,
   "id": "8ece7219",
   "metadata": {},
   "outputs": [],
   "source": [
    "high_risk = pd.DataFrame(html_df[0])"
   ]
  },
  {
   "cell_type": "markdown",
   "id": "671e60b1",
   "metadata": {},
   "source": [
    "### Remove the zero-width space character from the column names"
   ]
  },
  {
   "cell_type": "code",
   "execution_count": 4,
   "id": "e55030fb",
   "metadata": {},
   "outputs": [
    {
     "data": {
      "text/html": [
       "<div>\n",
       "<style scoped>\n",
       "    .dataframe tbody tr th:only-of-type {\n",
       "        vertical-align: middle;\n",
       "    }\n",
       "\n",
       "    .dataframe tbody tr th {\n",
       "        vertical-align: top;\n",
       "    }\n",
       "\n",
       "    .dataframe thead th {\n",
       "        text-align: right;\n",
       "    }\n",
       "</style>\n",
       "<table border=\"1\" class=\"dataframe\">\n",
       "  <thead>\n",
       "    <tr style=\"text-align: right;\">\n",
       "      <th></th>\n",
       "      <th>Period</th>\n",
       "      <th>Data source</th>\n",
       "      <th>N</th>\n",
       "      <th>Country</th>\n",
       "      <th>Top two breeds edentified</th>\n",
       "      <th>Ref</th>\n",
       "    </tr>\n",
       "  </thead>\n",
       "  <tbody>\n",
       "    <tr>\n",
       "      <th>0</th>\n",
       "      <td>​1971</td>\n",
       "      <td>​US Dept. Health</td>\n",
       "      <td>​843</td>\n",
       "      <td>United States (VA)​</td>\n",
       "      <td>​mixed breed  German Shepherd Dog</td>\n",
       "      <td>1​</td>\n",
       "    </tr>\n",
       "    <tr>\n",
       "      <th>1</th>\n",
       "      <td>​1971-1974</td>\n",
       "      <td>Hospital records​</td>\n",
       "      <td>50​</td>\n",
       "      <td>​South Africa</td>\n",
       "      <td>German Shepherd Dog  Labrador Retriever​</td>\n",
       "      <td>​2</td>\n",
       "    </tr>\n",
       "    <tr>\n",
       "      <th>2</th>\n",
       "      <td>​1973-1976</td>\n",
       "      <td>US Dept. Health​</td>\n",
       "      <td>​2618</td>\n",
       "      <td>​United States (AL)</td>\n",
       "      <td>German Shepherd Dog  Collie​</td>\n",
       "      <td>​3</td>\n",
       "    </tr>\n",
       "    <tr>\n",
       "      <th>3</th>\n",
       "      <td>​1979-1982</td>\n",
       "      <td>​Health Dept. Severe attacks</td>\n",
       "      <td>16​</td>\n",
       "      <td>​United States (SC)</td>\n",
       "      <td>pit bull type  Saint Bernard</td>\n",
       "      <td>​21</td>\n",
       "    </tr>\n",
       "    <tr>\n",
       "      <th>4</th>\n",
       "      <td>1981-1983​</td>\n",
       "      <td>​US Reservations</td>\n",
       "      <td>772​</td>\n",
       "      <td>United States​</td>\n",
       "      <td>​mixed breed  unspecified pedigree</td>\n",
       "      <td>19​</td>\n",
       "    </tr>\n",
       "  </tbody>\n",
       "</table>\n",
       "</div>"
      ],
      "text/plain": [
       "       Period                   Data source      N              Country  \\\n",
       "0       ​1971              ​US Dept. Health   ​843  United States (VA)​   \n",
       "1  ​1971-1974             Hospital records​    50​        ​South Africa   \n",
       "2  ​1973-1976              US Dept. Health​  ​2618  ​United States (AL)   \n",
       "3  ​1979-1982  ​Health Dept. Severe attacks    16​  ​United States (SC)   \n",
       "4  1981-1983​              ​US Reservations   772​       United States​   \n",
       "\n",
       "                  Top two breeds edentified  Ref  \n",
       "0         ​mixed breed  German Shepherd Dog   1​  \n",
       "1  German Shepherd Dog  Labrador Retriever​   ​2  \n",
       "2              German Shepherd Dog  Collie​   ​3  \n",
       "3              pit bull type  Saint Bernard  ​21  \n",
       "4        ​mixed breed  unspecified pedigree  19​  "
      ]
     },
     "execution_count": 4,
     "metadata": {},
     "output_type": "execute_result"
    }
   ],
   "source": [
    "for col in high_risk.columns:\n",
    "    high_risk.rename(columns={col: col.replace('\\u200b', '')}, inplace=True)\n",
    "high_risk.head()"
   ]
  },
  {
   "cell_type": "markdown",
   "id": "e0387e17",
   "metadata": {},
   "source": [
    "### Remove values inside parentheses"
   ]
  },
  {
   "cell_type": "code",
   "execution_count": 5,
   "id": "abe897ef",
   "metadata": {},
   "outputs": [
    {
     "data": {
      "text/plain": [
       "array(['United States\\u200b', '\\u200bSouth Africa', '\\u200bUnited States',\n",
       "       'Canada\\u200b', 'United Kingdom\\u200b', '\\u200bNew Zealand',\n",
       "       '\\u200bUnited Kingdom', '\\u200bSpain', '\\u200bAustralia',\n",
       "       '\\u200bCanada', 'New Zealand\\u200b', 'Austria\\u200b',\n",
       "       'New Zealand', '\\u200bIreland', 'Switzerland'], dtype=object)"
      ]
     },
     "execution_count": 5,
     "metadata": {},
     "output_type": "execute_result"
    }
   ],
   "source": [
    "high_risk['Country'] = high_risk['Country'].str.replace(r'\\s*\\([^()]*\\)', '', regex=True)\n",
    "high_risk['Country'].unique()"
   ]
  },
  {
   "cell_type": "markdown",
   "id": "417a94a4",
   "metadata": {},
   "source": [
    "### Replace \\u200b from values any column"
   ]
  },
  {
   "cell_type": "code",
   "execution_count": 6,
   "id": "7a8d979e",
   "metadata": {},
   "outputs": [
    {
     "data": {
      "text/plain": [
       "array(['United States', 'South Africa', 'Canada', 'United Kingdom',\n",
       "       'New Zealand', 'Spain', 'Australia', 'Austria', 'Ireland',\n",
       "       'Switzerland'], dtype=object)"
      ]
     },
     "execution_count": 6,
     "metadata": {},
     "output_type": "execute_result"
    }
   ],
   "source": [
    "high_risk = high_risk.applymap(lambda x: x.replace('\\u200b', '') if isinstance(x, str) else x)\n",
    "high_risk['Country'].unique()"
   ]
  },
  {
   "cell_type": "markdown",
   "id": "2daf8d62",
   "metadata": {},
   "source": [
    "### Drop any rows where the value is \"?\""
   ]
  },
  {
   "cell_type": "code",
   "execution_count": 7,
   "id": "60c91e41",
   "metadata": {},
   "outputs": [
    {
     "data": {
      "text/plain": [
       "0     843\n",
       "1      50\n",
       "2    2618\n",
       "3      16\n",
       "4     772\n",
       "Name: N, dtype: object"
      ]
     },
     "execution_count": 7,
     "metadata": {},
     "output_type": "execute_result"
    }
   ],
   "source": [
    "high_risk['N'].replace(\"?\", np.nan, inplace=True)\n",
    "high_risk = high_risk.dropna(subset=[\"N\"])\n",
    "high_risk['N'].head()"
   ]
  },
  {
   "cell_type": "markdown",
   "id": "a71e8ce5",
   "metadata": {},
   "source": [
    "### Break out breeds that were identified as higher risk"
   ]
  },
  {
   "cell_type": "code",
   "execution_count": 8,
   "id": "9963c815",
   "metadata": {},
   "outputs": [
    {
     "data": {
      "text/html": [
       "<div>\n",
       "<style scoped>\n",
       "    .dataframe tbody tr th:only-of-type {\n",
       "        vertical-align: middle;\n",
       "    }\n",
       "\n",
       "    .dataframe tbody tr th {\n",
       "        vertical-align: top;\n",
       "    }\n",
       "\n",
       "    .dataframe thead th {\n",
       "        text-align: right;\n",
       "    }\n",
       "</style>\n",
       "<table border=\"1\" class=\"dataframe\">\n",
       "  <thead>\n",
       "    <tr style=\"text-align: right;\">\n",
       "      <th></th>\n",
       "      <th>index</th>\n",
       "      <th>Period</th>\n",
       "      <th>Data source</th>\n",
       "      <th>N</th>\n",
       "      <th>Country</th>\n",
       "      <th>Top two breeds edentified</th>\n",
       "      <th>Ref</th>\n",
       "      <th>Breed</th>\n",
       "    </tr>\n",
       "  </thead>\n",
       "  <tbody>\n",
       "    <tr>\n",
       "      <th>0</th>\n",
       "      <td>0</td>\n",
       "      <td>1971</td>\n",
       "      <td>US Dept. Health</td>\n",
       "      <td>843</td>\n",
       "      <td>United States</td>\n",
       "      <td>mixed breed  German Shepherd Dog</td>\n",
       "      <td>1</td>\n",
       "      <td>mixed breed</td>\n",
       "    </tr>\n",
       "    <tr>\n",
       "      <th>1</th>\n",
       "      <td>0</td>\n",
       "      <td>1971</td>\n",
       "      <td>US Dept. Health</td>\n",
       "      <td>843</td>\n",
       "      <td>United States</td>\n",
       "      <td>mixed breed  German Shepherd Dog</td>\n",
       "      <td>1</td>\n",
       "      <td>German Shepherd Dog</td>\n",
       "    </tr>\n",
       "    <tr>\n",
       "      <th>2</th>\n",
       "      <td>1</td>\n",
       "      <td>1971-1974</td>\n",
       "      <td>Hospital records</td>\n",
       "      <td>50</td>\n",
       "      <td>South Africa</td>\n",
       "      <td>German Shepherd Dog  Labrador Retriever</td>\n",
       "      <td>2</td>\n",
       "      <td>German Shepherd Dog</td>\n",
       "    </tr>\n",
       "    <tr>\n",
       "      <th>3</th>\n",
       "      <td>1</td>\n",
       "      <td>1971-1974</td>\n",
       "      <td>Hospital records</td>\n",
       "      <td>50</td>\n",
       "      <td>South Africa</td>\n",
       "      <td>German Shepherd Dog  Labrador Retriever</td>\n",
       "      <td>2</td>\n",
       "      <td>Labrador Retriever</td>\n",
       "    </tr>\n",
       "    <tr>\n",
       "      <th>4</th>\n",
       "      <td>2</td>\n",
       "      <td>1973-1976</td>\n",
       "      <td>US Dept. Health</td>\n",
       "      <td>2618</td>\n",
       "      <td>United States</td>\n",
       "      <td>German Shepherd Dog  Collie</td>\n",
       "      <td>3</td>\n",
       "      <td>German Shepherd Dog</td>\n",
       "    </tr>\n",
       "  </tbody>\n",
       "</table>\n",
       "</div>"
      ],
      "text/plain": [
       "   index     Period       Data source     N        Country  \\\n",
       "0      0       1971   US Dept. Health   843  United States   \n",
       "1      0       1971   US Dept. Health   843  United States   \n",
       "2      1  1971-1974  Hospital records    50   South Africa   \n",
       "3      1  1971-1974  Hospital records    50   South Africa   \n",
       "4      2  1973-1976   US Dept. Health  2618  United States   \n",
       "\n",
       "                 Top two breeds edentified Ref                Breed  \n",
       "0         mixed breed  German Shepherd Dog   1          mixed breed  \n",
       "1         mixed breed  German Shepherd Dog   1  German Shepherd Dog  \n",
       "2  German Shepherd Dog  Labrador Retriever   2  German Shepherd Dog  \n",
       "3  German Shepherd Dog  Labrador Retriever   2   Labrador Retriever  \n",
       "4              German Shepherd Dog  Collie   3  German Shepherd Dog  "
      ]
     },
     "execution_count": 8,
     "metadata": {},
     "output_type": "execute_result"
    }
   ],
   "source": [
    "# split out breed names into list\n",
    "high_risk = high_risk.assign(Breed=high_risk['Top two breeds edentified'].str.split('  ')).explode('Top two breeds edentified')\n",
    "high_risk = high_risk.explode('Breed').reset_index()\n",
    "high_risk.head()"
   ]
  },
  {
   "cell_type": "code",
   "execution_count": 9,
   "id": "5b2ec6be",
   "metadata": {},
   "outputs": [],
   "source": [
    "# https://data.world/len/dog-canine-breed-size-akc\n",
    "breed_df = pd.read_csv('akc_breed_info.csv')"
   ]
  },
  {
   "cell_type": "code",
   "execution_count": 10,
   "id": "bd883d63",
   "metadata": {},
   "outputs": [],
   "source": [
    "# function that determines ratio and token\n",
    "def metrics(tup):\n",
    "    return pd.Series([fuzz.ratio(*tup),\n",
    "                      fuzz.token_sort_ratio(*tup)],\n",
    "                     ['ratio', 'token'])\n",
    "# create multi index to use fuzzy match\n",
    "compare = pd.MultiIndex.from_product([breed_df['breed'],\n",
    "                                      high_risk['Breed'].unique()]).to_series()\n",
    "# Create reference to join views\n",
    "breed_fuzzy = compare.apply(metrics).unstack().idxmax().unstack(0).reset_index()"
   ]
  },
  {
   "cell_type": "code",
   "execution_count": 11,
   "id": "04da267c",
   "metadata": {},
   "outputs": [],
   "source": [
    "# fix matches found by manually checking file\n",
    "def update_ratio(index, ratio):\n",
    "    if index.lower() in ['american bulldog','american bulldog mix','english bulldog','english bulldog mix','old english bulldog']:\n",
    "        return 'Bull Dog'\n",
    "    elif index.lower() in ['lhasa apso','lhasa apso mix']:\n",
    "        return 'Tibetan Terrier'\n",
    "    elif index.lower() in ['miniature pinscher','miniature pinscher mix']:\n",
    "        return 'Dachshund'\n",
    "    elif index.lower() in ['pit bull','pit bull type', 'pitt']:\n",
    "        return 'American Staffordshire Terrier'\n",
    "    elif index.lower() in ['alaskan malamute','alaskan malamute mix']:\n",
    "        return 'Siberian Husky'\n",
    "    else:\n",
    "        return ratio\n",
    "breed_fuzzy['ratio'] = breed_fuzzy[['index','ratio']].apply(lambda breed_fuzzy: update_ratio(breed_fuzzy['index'],breed_fuzzy['ratio']),axis=1)\n",
    "breed_fuzzy = breed_fuzzy[['index','ratio']].rename(columns={'index' : 'Breed_join', 'ratio' : 'Breed_primary'})"
   ]
  },
  {
   "cell_type": "code",
   "execution_count": 12,
   "id": "2c522ed8",
   "metadata": {},
   "outputs": [],
   "source": [
    "# joins breed dataframe with high risk for combining all in the future\n",
    "high_risk = pd.merge(high_risk, breed_fuzzy, how='left', left_on='Breed', right_on='Breed_join')"
   ]
  },
  {
   "cell_type": "code",
   "execution_count": 13,
   "id": "fb9591f7",
   "metadata": {},
   "outputs": [],
   "source": [
    "# removes records where they don't specify a specific breed\n",
    "high_risk = high_risk[~high_risk['Breed'].isin(['\"sled dog\"','Mixed breed','mixed breed','unspecified pedigree', '--'])]"
   ]
  },
  {
   "cell_type": "code",
   "execution_count": 14,
   "id": "9ce0846b",
   "metadata": {},
   "outputs": [],
   "source": [
    "# create a final dataframe with the breed and the number of times identified\n",
    "high_risk_df = high_risk.groupby('Breed_primary').agg(identify_cnt=('Breed_primary', 'count')).reset_index()"
   ]
  },
  {
   "cell_type": "code",
   "execution_count": 15,
   "id": "7da7b388",
   "metadata": {},
   "outputs": [
    {
     "name": "stdout",
     "output_type": "stream",
     "text": [
      "                     Breed_primary  identify_cnt\n",
      "0   American Staffordshire Terrier             9\n",
      "1            Black Russian Terrier             3\n",
      "2                    Border Collie             2\n",
      "3                     Bull Terrier             3\n",
      "4                        Chow Chow             1\n",
      "5           Cocker Spaniel-English             1\n",
      "6                    Field Spaniel             1\n",
      "7              German Shepherd Dog            22\n",
      "8               Labrador Retriever             1\n",
      "9                       Rottweiler             7\n",
      "10                   Saint Bernard             1\n",
      "11                  Siberian Husky             1\n",
      "12      Staffordshire Bull Terrier             1\n",
      "13          Welsh Springer Spaniel             1\n"
     ]
    }
   ],
   "source": [
    "print(high_risk_df)"
   ]
  },
  {
   "cell_type": "markdown",
   "id": "c252ff4d",
   "metadata": {},
   "source": [
    "&emsp; There are several ethical implications to consider when pulling data from tables on a webpage.\n",
    "1. Intellectual Property Rights: Another ethical consideration is the intellectual property rights of the website owner. If the website owner has copyrighted the data on their website, using it without their permission could be a violation of their rights.\n",
    "2. Data Accuracy: The accuracy and integrity of the data also need to be considered. If the data is inaccurate or incomplete, it could lead to biased or unreliable machine learning models.\n",
    "3. Fair Use: Fair use is an important ethical consideration when using data from tables on a webpage. Fair use allows for the limited use of copyrighted material without permission, but only under certain circumstances, such as for educational or research purposes."
   ]
  },
  {
   "cell_type": "code",
   "execution_count": 17,
   "id": "ddc0c1f9",
   "metadata": {},
   "outputs": [],
   "source": [
    "high_risk_df.to_csv('high_risk_clean_df.csv', index=False)"
   ]
  },
  {
   "cell_type": "code",
   "execution_count": null,
   "id": "e5cf034a",
   "metadata": {},
   "outputs": [],
   "source": []
  }
 ],
 "metadata": {
  "kernelspec": {
   "display_name": "Python 3 (ipykernel)",
   "language": "python",
   "name": "python3"
  },
  "language_info": {
   "codemirror_mode": {
    "name": "ipython",
    "version": 3
   },
   "file_extension": ".py",
   "mimetype": "text/x-python",
   "name": "python",
   "nbconvert_exporter": "python",
   "pygments_lexer": "ipython3",
   "version": "3.10.9"
  }
 },
 "nbformat": 4,
 "nbformat_minor": 5
}
